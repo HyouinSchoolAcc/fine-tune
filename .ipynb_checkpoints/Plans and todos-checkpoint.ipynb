{
 "cells": [
  {
   "cell_type": "markdown",
   "metadata": {},
   "source": [
    "1. Generate conversation dataset for Deepseekv3 language\n",
    "2. Train on Deepseekv3\n",
    "3. Form a pipeline to have it chat with C.ai\n",
    "4. Title the training discord bot \"simulated universe\" and give it to people with the option to fill out \"potential events\" and initiate conversations that converse with c.ai, and have the options to label the bots' responses.\n",
    "\n",
    "The responses will be recorded and send to DPO for verification\n"
   ]
  },
  {
   "cell_type": "markdown",
   "metadata": {},
   "source": [
    "So, how will a sample run look like? We will have \"simulated universe\"\n",
    "\"Hi, welcome to the simulated universe beta, where we only simulate one character living inside Honkai:Starrail at a time. Please choose \"testing\" or \"experiencing\"\n",
    "\n",
    "Testing: The user will be directed to a page to talk directly with our AI\n",
    "Experiencing: The user will be directed to a page to label data\n",
    "\n",
    "User comes in to the experiencing page.\n",
    "\"Welcome to the simulated universe testing page. In here, you will be supervising a roleplay between conversation agents. Down below will be some example choices for you to showcase how an agent will interact. Add in scenarios where our person may exhist and think about, and correct its logic core when the chances arrive. After each 10 successful completion your name will be entered into a raffle that will randomly select 10 winners each of 50 dollars. \n",
    "\n",
    "Let's formulate a few examples to show our peeps.\n",
    "\n",
    "\n",
    "server: load script for website\n",
    "\n",
    "\n",
    "\n",
    "\n"
   ]
  },
  {
   "cell_type": "code",
   "execution_count": null,
   "metadata": {},
   "outputs": [],
   "source": [
    "def: simulated universe(A, user = 1)\n",
    "\topen experiment_logs\n",
    "\tdialog = []\n",
    "\tif user = 1:A = display and choose from a list options of characters\n",
    "\tinformation about A = retrieve A from datasheet\n",
    "\tif user = 1:A = display and choose from a list options of characters\n",
    "\tevents, query = show information about A wait for user entry()\n",
    "\tuser_flag = ? events,query != null\n",
    "\tif userflag = 1, open DPO_dataset\n",
    "\n",
    "\n",
    "\tresponse, new_events = our_bot_talks(information_about_A, event,qeury,dialog)\n",
    "\tc.ai_response = talk_to_c.ai(response)\n",
    "\tshow response,c.ai_response()\n",
    "\tappend (response,c.ai_response) to dialog\n",
    "\t\n",
    "\tif user_flag\n",
    "\t\tAsk user was the response good?if yes: \n",
    "\t\t\tbetter response = ask user to enter what should be a better response\n",
    "\t\t\tbetter events = ask user to enter what should be a better event update\n",
    "\t\t\twrite 'a' in DPO_dataset (input:prompt(events,query),bad output:concatonate(response,$,new_events),good output:concatonate(better response,$,better events))\n",
    "\n",
    "\tdialog \n",
    "\twrite 'a' in experimentlogs (concatonate(response,$,new_events)"
   ]
  }
 ],
 "metadata": {
  "kernelspec": {
   "display_name": "base",
   "language": "python",
   "name": "python3"
  },
  "language_info": {
   "codemirror_mode": {
    "name": "ipython",
    "version": 3
   },
   "file_extension": ".py",
   "mimetype": "text/x-python",
   "name": "python",
   "nbconvert_exporter": "python",
   "pygments_lexer": "ipython3",
   "version": "3.11.5"
  }
 },
 "nbformat": 4,
 "nbformat_minor": 2
}
