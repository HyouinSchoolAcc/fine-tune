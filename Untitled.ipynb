{
 "cells": [
  {
   "cell_type": "code",
   "execution_count": 1,
   "id": "25017840-559c-475d-abec-82c065fa44ab",
   "metadata": {},
   "outputs": [],
   "source": [
    "from PyCAI2 import PyAsyncCAI2\n",
    "\n",
    "owner_id=\"07928b733c7dad67810f2a21c01b3f3195800a26\"\n",
    "client = PyAsyncCAI2(owner_id)"
   ]
  },
  {
   "cell_type": "code",
   "execution_count": 5,
   "id": "27afc2b1-78c5-4a1f-849a-d94beb179cf5",
   "metadata": {},
   "outputs": [
    {
     "name": "stdout",
     "output_type": "stream",
     "text": [
      "{'command': 'create_and_generate_turn', 'payload': {'character_id': 'rIY3dqqU-WwbHbjzJlac1f4aXYO1j7aYdri_5k4uDNM', 'turn': {'turn_key': {'chat_id': 'e710ddb7-ecb0-4ce8-9d94-5cc369bab98a'}, 'author': {'author_id': '583943304', 'is_human': True, 'name': 'ungabungchadstyl'}, 'candidates': [{'raw_content': '1,Morning,Reconnaissance,Scans IPC’s public servers for vulnerabilities using a custom-built AI tool.,Discovers a backdoor in their financial transaction system. ; \\nAfternoon,Initial Hack,Infiltrates IPC’s payroll system, rerouting 0.1% of funds to anonymous charity accounts.,Charities receive unexpected donations; IPC notices minor discrepancies. ;\\nEvening,Gaming Break,Plays *Celestial Jigsaw* for 4 hours, livestreaming her gameplay.,Gains 500 new followers on her streaming channel.'}]}}}\n",
      "Silverwolf's Response: (Silver Wolf) The first and second one would be interesting for me to try. I'm curious about the backdoor. I could probably use it to take out the IPC easily.\n",
      "\n",
      "The last one is just annoying. Why would I waste my time playing the same game I'm hacking?\n"
     ]
    }
   ],
   "source": [
    "assistant_id = \"rIY3dqqU-WwbHbjzJlac1f4aXYO1j7aYdri_5k4uDNM\"\n",
    "prompt = \"\"\"1,Morning,Reconnaissance,Scans IPC’s public servers for vulnerabilities using a custom-built AI tool.,Discovers a backdoor in their financial transaction system. ; \n",
    "Afternoon,Initial Hack,Infiltrates IPC’s payroll system, rerouting 0.1% of funds to anonymous charity accounts.,Charities receive unexpected donations; IPC notices minor discrepancies. ;\n",
    "Evening,Gaming Break,Plays *Celestial Jigsaw* for 4 hours, livestreaming her gameplay.,Gains 500 new followers on her streaming channel.\"\"\"\n",
    "\n",
    "async with client.connect(owner_id) as chat2:\n",
    "    chat_id = initialize_chat(client, \"character_id\")\n",
    "    response = await chat2.send_message(assistant_id, prompt, \"ungabungchadstyl\", Return_name=True)\n",
    "    print(\"Silverwolf's Response:\", response)"
   ]
  },
  {
   "cell_type": "code",
   "execution_count": null,
   "id": "1976d248-9df1-4892-be40-8b13c32d75d1",
   "metadata": {},
   "outputs": [],
   "source": []
  },
  {
   "cell_type": "code",
   "execution_count": 15,
   "id": "fad11990-3728-4700-af22-4d5bded980ff",
   "metadata": {},
   "outputs": [
    {
     "ename": "KeyError",
     "evalue": "'chats'",
     "output_type": "error",
     "traceback": [
      "\u001b[1;31m---------------------------------------------------------------------------\u001b[0m",
      "\u001b[1;31mKeyError\u001b[0m                                  Traceback (most recent call last)",
      "Cell \u001b[1;32mIn[15], line 68\u001b[0m\n\u001b[0;32m     64\u001b[0m     \u001b[38;5;28mprint\u001b[39m(\u001b[38;5;124m\"\u001b[39m\u001b[38;5;124mConversation saved.\u001b[39m\u001b[38;5;124m\"\u001b[39m)\n\u001b[0;32m     67\u001b[0m \u001b[38;5;28;01mif\u001b[39;00m \u001b[38;5;18m__name__\u001b[39m \u001b[38;5;241m==\u001b[39m \u001b[38;5;124m\"\u001b[39m\u001b[38;5;124m__main__\u001b[39m\u001b[38;5;124m\"\u001b[39m:\n\u001b[1;32m---> 68\u001b[0m     asyncio\u001b[38;5;241m.\u001b[39mrun(start_conversation())\n",
      "File \u001b[1;32m~\\anaconda3\\Lib\\site-packages\\nest_asyncio.py:30\u001b[0m, in \u001b[0;36m_patch_asyncio.<locals>.run\u001b[1;34m(main, debug)\u001b[0m\n\u001b[0;32m     28\u001b[0m task \u001b[38;5;241m=\u001b[39m asyncio\u001b[38;5;241m.\u001b[39mensure_future(main)\n\u001b[0;32m     29\u001b[0m \u001b[38;5;28;01mtry\u001b[39;00m:\n\u001b[1;32m---> 30\u001b[0m     \u001b[38;5;28;01mreturn\u001b[39;00m loop\u001b[38;5;241m.\u001b[39mrun_until_complete(task)\n\u001b[0;32m     31\u001b[0m \u001b[38;5;28;01mfinally\u001b[39;00m:\n\u001b[0;32m     32\u001b[0m     \u001b[38;5;28;01mif\u001b[39;00m \u001b[38;5;129;01mnot\u001b[39;00m task\u001b[38;5;241m.\u001b[39mdone():\n",
      "File \u001b[1;32m~\\anaconda3\\Lib\\site-packages\\nest_asyncio.py:98\u001b[0m, in \u001b[0;36m_patch_loop.<locals>.run_until_complete\u001b[1;34m(self, future)\u001b[0m\n\u001b[0;32m     95\u001b[0m \u001b[38;5;28;01mif\u001b[39;00m \u001b[38;5;129;01mnot\u001b[39;00m f\u001b[38;5;241m.\u001b[39mdone():\n\u001b[0;32m     96\u001b[0m     \u001b[38;5;28;01mraise\u001b[39;00m \u001b[38;5;167;01mRuntimeError\u001b[39;00m(\n\u001b[0;32m     97\u001b[0m         \u001b[38;5;124m'\u001b[39m\u001b[38;5;124mEvent loop stopped before Future completed.\u001b[39m\u001b[38;5;124m'\u001b[39m)\n\u001b[1;32m---> 98\u001b[0m \u001b[38;5;28;01mreturn\u001b[39;00m f\u001b[38;5;241m.\u001b[39mresult()\n",
      "File \u001b[1;32m~\\anaconda3\\Lib\\asyncio\\futures.py:203\u001b[0m, in \u001b[0;36mFuture.result\u001b[1;34m(self)\u001b[0m\n\u001b[0;32m    201\u001b[0m \u001b[38;5;28mself\u001b[39m\u001b[38;5;241m.\u001b[39m__log_traceback \u001b[38;5;241m=\u001b[39m \u001b[38;5;28;01mFalse\u001b[39;00m\n\u001b[0;32m    202\u001b[0m \u001b[38;5;28;01mif\u001b[39;00m \u001b[38;5;28mself\u001b[39m\u001b[38;5;241m.\u001b[39m_exception \u001b[38;5;129;01mis\u001b[39;00m \u001b[38;5;129;01mnot\u001b[39;00m \u001b[38;5;28;01mNone\u001b[39;00m:\n\u001b[1;32m--> 203\u001b[0m     \u001b[38;5;28;01mraise\u001b[39;00m \u001b[38;5;28mself\u001b[39m\u001b[38;5;241m.\u001b[39m_exception\u001b[38;5;241m.\u001b[39mwith_traceback(\u001b[38;5;28mself\u001b[39m\u001b[38;5;241m.\u001b[39m_exception_tb)\n\u001b[0;32m    204\u001b[0m \u001b[38;5;28;01mreturn\u001b[39;00m \u001b[38;5;28mself\u001b[39m\u001b[38;5;241m.\u001b[39m_result\n",
      "File \u001b[1;32m~\\anaconda3\\Lib\\asyncio\\tasks.py:267\u001b[0m, in \u001b[0;36mTask.__step\u001b[1;34m(***failed resolving arguments***)\u001b[0m\n\u001b[0;32m    263\u001b[0m \u001b[38;5;28;01mtry\u001b[39;00m:\n\u001b[0;32m    264\u001b[0m     \u001b[38;5;28;01mif\u001b[39;00m exc \u001b[38;5;129;01mis\u001b[39;00m \u001b[38;5;28;01mNone\u001b[39;00m:\n\u001b[0;32m    265\u001b[0m         \u001b[38;5;66;03m# We use the `send` method directly, because coroutines\u001b[39;00m\n\u001b[0;32m    266\u001b[0m         \u001b[38;5;66;03m# don't have `__iter__` and `__next__` methods.\u001b[39;00m\n\u001b[1;32m--> 267\u001b[0m         result \u001b[38;5;241m=\u001b[39m coro\u001b[38;5;241m.\u001b[39msend(\u001b[38;5;28;01mNone\u001b[39;00m)\n\u001b[0;32m    268\u001b[0m     \u001b[38;5;28;01melse\u001b[39;00m:\n\u001b[0;32m    269\u001b[0m         result \u001b[38;5;241m=\u001b[39m coro\u001b[38;5;241m.\u001b[39mthrow(exc)\n",
      "Cell \u001b[1;32mIn[15], line 37\u001b[0m, in \u001b[0;36mstart_conversation\u001b[1;34m()\u001b[0m\n\u001b[0;32m     34\u001b[0m conversation_log \u001b[38;5;241m=\u001b[39m []\n\u001b[0;32m     36\u001b[0m \u001b[38;5;28;01masync\u001b[39;00m \u001b[38;5;28;01mwith\u001b[39;00m client\u001b[38;5;241m.\u001b[39mconnect(owner_id) \u001b[38;5;28;01mas\u001b[39;00m chat2:\n\u001b[1;32m---> 37\u001b[0m     response \u001b[38;5;241m=\u001b[39m \u001b[38;5;28;01mawait\u001b[39;00m chat2\u001b[38;5;241m.\u001b[39msend_message(assistant_id, initial_prompt, user_id, Return_name\u001b[38;5;241m=\u001b[39m\u001b[38;5;28;01mTrue\u001b[39;00m)\n\u001b[0;32m     38\u001b[0m     conversation_log\u001b[38;5;241m.\u001b[39mappend({\u001b[38;5;124m\"\u001b[39m\u001b[38;5;124mexchange 1\u001b[39m\u001b[38;5;124m\"\u001b[39m: {\u001b[38;5;124m\"\u001b[39m\u001b[38;5;124mprompt\u001b[39m\u001b[38;5;124m\"\u001b[39m: initial_prompt, \u001b[38;5;124m\"\u001b[39m\u001b[38;5;124muser\u001b[39m\u001b[38;5;124m\"\u001b[39m: response}})\n\u001b[0;32m     40\u001b[0m     \u001b[38;5;28;01mfor\u001b[39;00m i \u001b[38;5;129;01min\u001b[39;00m \u001b[38;5;28mrange\u001b[39m(\u001b[38;5;241m2\u001b[39m, \u001b[38;5;241m21\u001b[39m):  \u001b[38;5;66;03m# 10 turns from each side\u001b[39;00m\n",
      "File \u001b[1;32m~\\anaconda3\\Lib\\site-packages\\PyCAI2\\PyCAI2.py:426\u001b[0m, in \u001b[0;36mPyAsyncCAI2.chat2.send_message\u001b[1;34m(self, char, text, author_name, turn_id, token, candidate_id, Return_name)\u001b[0m\n\u001b[0;32m    418\u001b[0m \u001b[38;5;28;01masync\u001b[39;00m \u001b[38;5;28;01mdef\u001b[39;00m \u001b[38;5;21msend_message\u001b[39m(\n\u001b[0;32m    419\u001b[0m     \u001b[38;5;28mself\u001b[39m, char: \u001b[38;5;28mstr\u001b[39m,\n\u001b[0;32m    420\u001b[0m     text: \u001b[38;5;28mstr\u001b[39m, author_name:\u001b[38;5;28mstr\u001b[39m,\n\u001b[0;32m    421\u001b[0m     \u001b[38;5;241m*\u001b[39m, turn_id: \u001b[38;5;28mstr\u001b[39m \u001b[38;5;241m=\u001b[39m \u001b[38;5;28;01mNone\u001b[39;00m,token:\u001b[38;5;28mstr\u001b[39m \u001b[38;5;241m=\u001b[39m \u001b[38;5;28;01mNone\u001b[39;00m,\n\u001b[0;32m    422\u001b[0m     candidate_id: \u001b[38;5;28mstr\u001b[39m \u001b[38;5;241m=\u001b[39m \u001b[38;5;28;01mNone\u001b[39;00m, Return_name: \u001b[38;5;28mbool\u001b[39m \u001b[38;5;241m=\u001b[39m \u001b[38;5;28;01mFalse\u001b[39;00m\n\u001b[0;32m    423\u001b[0m ):  \n\u001b[0;32m    425\u001b[0m     json_out \u001b[38;5;241m=\u001b[39m \u001b[38;5;28;01mawait\u001b[39;00m PyAsyncCAI2\u001b[38;5;241m.\u001b[39mrequest(\u001b[38;5;124mf\u001b[39m\u001b[38;5;124m'\u001b[39m\u001b[38;5;124mchats/recent/\u001b[39m\u001b[38;5;132;01m{\u001b[39;00mchar\u001b[38;5;132;01m}\u001b[39;00m\u001b[38;5;124m'\u001b[39m, \u001b[38;5;28mself\u001b[39m\u001b[38;5;241m.\u001b[39msession,token\u001b[38;5;241m=\u001b[39mtoken,method\u001b[38;5;241m=\u001b[39m\u001b[38;5;124m'\u001b[39m\u001b[38;5;124mGET\u001b[39m\u001b[38;5;124m'\u001b[39m,neo\u001b[38;5;241m=\u001b[39m\u001b[38;5;28;01mTrue\u001b[39;00m)\n\u001b[1;32m--> 426\u001b[0m     chat_id \u001b[38;5;241m=\u001b[39m json_out[\u001b[38;5;124m'\u001b[39m\u001b[38;5;124mchats\u001b[39m\u001b[38;5;124m'\u001b[39m][\u001b[38;5;241m0\u001b[39m][\u001b[38;5;124m'\u001b[39m\u001b[38;5;124mchat_id\u001b[39m\u001b[38;5;124m'\u001b[39m]\n\u001b[0;32m    427\u001b[0m     creator_id \u001b[38;5;241m=\u001b[39m json_out[\u001b[38;5;124m'\u001b[39m\u001b[38;5;124mchats\u001b[39m\u001b[38;5;124m'\u001b[39m][\u001b[38;5;241m0\u001b[39m][\u001b[38;5;124m'\u001b[39m\u001b[38;5;124mcreator_id\u001b[39m\u001b[38;5;124m'\u001b[39m]\n\u001b[0;32m    429\u001b[0m     message \u001b[38;5;241m=\u001b[39m {\n\u001b[0;32m    430\u001b[0m         \u001b[38;5;124m'\u001b[39m\u001b[38;5;124mcommand\u001b[39m\u001b[38;5;124m'\u001b[39m: \u001b[38;5;124m'\u001b[39m\u001b[38;5;124mcreate_and_generate_turn\u001b[39m\u001b[38;5;124m'\u001b[39m,\n\u001b[0;32m    431\u001b[0m         \u001b[38;5;124m'\u001b[39m\u001b[38;5;124mpayload\u001b[39m\u001b[38;5;124m'\u001b[39m: {\n\u001b[1;32m   (...)\u001b[0m\n\u001b[0;32m    441\u001b[0m         }\n\u001b[0;32m    442\u001b[0m     }\n",
      "\u001b[1;31mKeyError\u001b[0m: 'chats'"
     ]
    }
   ],
   "source": [
    "import json\n",
    "import asyncio\n",
    "import pandas as pd\n",
    "import os\n",
    "from PyCAI2 import PyAsyncCAI2\n",
    "\n",
    "# File paths\n",
    "data_file = r\"C:\\Users\\yueze\\Desktop\\fine-tune\\Star_fail_guinaifen.xlsx\"\n",
    "output_file = r\"C:\\Users\\yueze\\Desktop\\fine-tune\\conversation_data.json\"\n",
    "\n",
    "# API credentials\n",
    "owner_id = '07928b733c7dad67810f2a21c01b3f3195800a26'\n",
    "user_id = \"94cZZ3en5oJBTE5pgy0Qcd6P94pUXpLHx9iVjwYOssw\"\n",
    "assistant_id = \"udMF41dqN5JAGG7nLcYzG2y11GOgp76rATaNzT0QI0I\"\n",
    "\n",
    "def read_excel_data():\n",
    "    \"\"\"Reads the first 10 rows from the Excel file.\"\"\"\n",
    "    df = pd.read_excel(data_file, header=None)\n",
    "    return df.iloc[:10, 0].tolist()  # Return the first 10 rows of the first column\n",
    "\n",
    "async def start_conversation():\n",
    "    \"\"\"Initializes a new conversation and logs exchanges.\"\"\"\n",
    "    activities = read_excel_data()\n",
    "    if not activities:\n",
    "        print(\"No activity data found.\")\n",
    "        return\n",
    "\n",
    "    # Format the first prompt\n",
    "    plans = \" \".join(activities)\n",
    "    initial_prompt = f\"Today your planned activities are as follows: {plans}. {user_id}: \"\n",
    "\n",
    "    # Start chat session\n",
    "    client = PyAsyncCAI2(owner_id)\n",
    "    conversation_log = []\n",
    "    \n",
    "    async with client.connect(owner_id) as chat2:\n",
    "        response = await chat2.send_message(assistant_id, initial_prompt, user_id, Return_name=True)\n",
    "        conversation_log.append({\"exchange 1\": {\"prompt\": initial_prompt, \"user\": response}})\n",
    "        \n",
    "        for i in range(2, 21):  # 10 turns from each side\n",
    "            if i % 2 == 0:\n",
    "                user_message = input(\"You: \")\n",
    "                conversation_log.append({f\"exchange {i}\": {\"user\": user_message}})\n",
    "                response = await chat2.send_message(assistant_id, user_message, user_id, Return_name=True)\n",
    "            else:\n",
    "                conversation_log.append({f\"exchange {i}\": {\"assistant\": response}})\n",
    "\n",
    "    # Save to JSON\n",
    "    save_data(conversation_log)\n",
    "\n",
    "\n",
    "def save_data(conversation_log):\n",
    "    \"\"\"Saves conversation log to a JSON file.\"\"\"\n",
    "    if os.path.exists(output_file):\n",
    "        with open(output_file, \"r\", encoding=\"utf-8\") as file:\n",
    "            data = json.load(file)\n",
    "    else:\n",
    "        data = {}\n",
    "    \n",
    "    data[f\"datapoint{len(data) + 1}\"] = conversation_log\n",
    "    \n",
    "    with open(output_file, \"w\", encoding=\"utf-8\") as file:\n",
    "        json.dump(data, file, indent=4, ensure_ascii=False)\n",
    "    print(\"Conversation saved.\")\n",
    "\n",
    "\n",
    "if __name__ == \"__main__\":\n",
    "    asyncio.run(start_conversation())\n"
   ]
  }
 ],
 "metadata": {
  "kernelspec": {
   "display_name": "Python 3 (ipykernel)",
   "language": "python",
   "name": "python3"
  },
  "language_info": {
   "codemirror_mode": {
    "name": "ipython",
    "version": 3
   },
   "file_extension": ".py",
   "mimetype": "text/x-python",
   "name": "python",
   "nbconvert_exporter": "python",
   "pygments_lexer": "ipython3",
   "version": "3.11.5"
  }
 },
 "nbformat": 4,
 "nbformat_minor": 5
}
