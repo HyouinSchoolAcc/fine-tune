{
 "cells": [
  {
   "cell_type": "markdown",
   "metadata": {},
   "source": [
    "1. Generate conversation dataset for Deepseekv3 language\n",
    "2. Train on Deepseekv3\n",
    "3. Form a pipeline to have it chat with C.ai\n",
    "4. Title the training discord bot \"simulated universe\" and give it to people with the option to fill out \"potential events\" and initiate conversations that converse with c.ai, and have the options to label the bots' responses.\n",
    "\n",
    "The responses will be recorded and send to DPO for verification\n"
   ]
  },
  {
   "cell_type": "markdown",
   "metadata": {},
   "source": []
  }
 ],
 "metadata": {
  "language_info": {
   "name": "python"
  }
 },
 "nbformat": 4,
 "nbformat_minor": 2
}
