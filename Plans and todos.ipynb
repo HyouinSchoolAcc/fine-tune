{
 "cells": [
  {
   "cell_type": "markdown",
   "metadata": {},
   "source": [
    "1. create fictional dataset for pre-train\n",
    "2. create event-reactionary model for responses\n",
    "3. investigate optimal training strategies\n",
    "4. Implement event-response pipeline\n",
    "5. Investigate event-generation approaches\n",
    "6. Gather user data from discord for DPO aggregation"
   ]
  }
 ],
 "metadata": {
  "language_info": {
   "name": "python"
  }
 },
 "nbformat": 4,
 "nbformat_minor": 2
}
